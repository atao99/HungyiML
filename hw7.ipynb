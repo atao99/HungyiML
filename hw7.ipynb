{
  "nbformat": 4,
  "nbformat_minor": 0,
  "metadata": {
    "colab": {
      "name": "hw7.ipynb",
      "provenance": [],
      "collapsed_sections": [],
      "authorship_tag": "ABX9TyPqH8ui9dzPWR7x7yaV0H5B",
      "include_colab_link": true
    },
    "kernelspec": {
      "name": "python3",
      "display_name": "Python 3"
    },
    "accelerator": "GPU"
  },
  "cells": [
    {
      "cell_type": "markdown",
      "metadata": {
        "id": "view-in-github",
        "colab_type": "text"
      },
      "source": [
        "<a href=\"https://colab.research.google.com/github/brandon0824/HungyiML/blob/master/hw7.ipynb\" target=\"_parent\"><img src=\"https://colab.research.google.com/assets/colab-badge.svg\" alt=\"Open In Colab\"/></a>"
      ]
    },
    {
      "cell_type": "code",
      "metadata": {
        "id": "bLe-SNYUXYmC"
      },
      "source": [
        "from google.colab import drive\n",
        "drive.mount('/content/drive/')\n",
        "!nvidia-smi"
      ],
      "execution_count": null,
      "outputs": []
    },
    {
      "cell_type": "markdown",
      "metadata": {
        "id": "9A6id9zHXTcx"
      },
      "source": [
        "# 结构设计"
      ]
    },
    {
      "cell_type": "code",
      "metadata": {
        "id": "mXqGTd7QXQOv"
      },
      "source": [
        "# Download dataset\n",
        "!gdown --id '19CzXudqN58R3D-1G8KeFWk8UDQwlb8is' --output food-11.zip\n",
        "# Unzip the files\n",
        "!unzip food-11.zip"
      ],
      "execution_count": null,
      "outputs": []
    },
    {
      "cell_type": "code",
      "metadata": {
        "id": "lQXUzYrRYi5b"
      },
      "source": [
        ""
      ],
      "execution_count": null,
      "outputs": []
    },
    {
      "cell_type": "markdown",
      "metadata": {
        "id": "bNgxSujsXlct"
      },
      "source": [
        "# 知识蒸馏"
      ]
    },
    {
      "cell_type": "code",
      "metadata": {
        "id": "kCXLUDbyiw9f"
      },
      "source": [
        ""
      ],
      "execution_count": null,
      "outputs": []
    },
    {
      "cell_type": "markdown",
      "metadata": {
        "id": "WTwBgFmKXqAK"
      },
      "source": [
        "# 网络剪枝"
      ]
    },
    {
      "cell_type": "code",
      "metadata": {
        "id": "pLX6Ns5DixeT"
      },
      "source": [
        ""
      ],
      "execution_count": null,
      "outputs": []
    },
    {
      "cell_type": "markdown",
      "metadata": {
        "id": "98zpyAhrXsn8"
      },
      "source": [
        "# 结构设计"
      ]
    },
    {
      "cell_type": "code",
      "metadata": {
        "id": "RokyTWRmiyEF"
      },
      "source": [
        ""
      ],
      "execution_count": null,
      "outputs": []
    }
  ]
}