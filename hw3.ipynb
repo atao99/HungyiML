{
  "nbformat": 4,
  "nbformat_minor": 0,
  "metadata": {
    "colab": {
      "name": "hw3.ipynb",
      "provenance": [],
      "collapsed_sections": [],
      "authorship_tag": "ABX9TyMO30bw7DD4eYUP5EifrybD",
      "include_colab_link": true
    },
    "kernelspec": {
      "name": "python3",
      "display_name": "Python 3"
    },
    "accelerator": "GPU"
  },
  "cells": [
    {
      "cell_type": "markdown",
      "metadata": {
        "id": "view-in-github",
        "colab_type": "text"
      },
      "source": [
        "<a href=\"https://colab.research.google.com/github/brandon0824/HungyiML/blob/master/hw3.ipynb\" target=\"_parent\"><img src=\"https://colab.research.google.com/assets/colab-badge.svg\" alt=\"Open In Colab\"/></a>"
      ]
    },
    {
      "cell_type": "code",
      "metadata": {
        "id": "ZiL1nsuW1ZMu"
      },
      "source": [
        "from google.colab import drive\n",
        "drive.mount('/content/drive/')"
      ],
      "execution_count": null,
      "outputs": []
    },
    {
      "cell_type": "code",
      "metadata": {
        "id": "e_FsefD_htoP"
      },
      "source": [
        "!nvidia-smi"
      ],
      "execution_count": null,
      "outputs": []
    },
    {
      "cell_type": "code",
      "metadata": {
        "id": "eE6PJ3MbZhTi"
      },
      "source": [
        "!gdown --id '19CzXudqN58R3D-1G8KeFWk8UDQwlb8is' --output food-11.zip # 下載資料集\n",
        "!unzip food-11.zip # 解壓縮"
      ],
      "execution_count": null,
      "outputs": []
    },
    {
      "cell_type": "code",
      "metadata": {
        "id": "Vwx-rJ3kZG_p"
      },
      "source": [
        "# Import需要的套件\n",
        "import os\n",
        "import numpy as np\n",
        "import cv2\n",
        "import torch\n",
        "import torch.nn as nn\n",
        "import torchvision.transforms as transforms\n",
        "import pandas as pd\n",
        "from torch.utils.data import DataLoader, Dataset\n",
        "import time"
      ],
      "execution_count": 13,
      "outputs": []
    },
    {
      "cell_type": "code",
      "metadata": {
        "id": "S9QDnNuQjg_8",
        "outputId": "bf182836-2e7b-4700-fd09-d0ceb364d63f",
        "colab": {
          "base_uri": "https://localhost:8080/",
          "height": 118
        }
      },
      "source": [
        "def readfile(path, label):\n",
        "    # label 是一個 boolean variable，代表需不需要回傳 y 值\n",
        "    image_dir = sorted(os.listdir(path))\n",
        "    x = np.zeros((len(image_dir), 128, 128, 3), dtype=np.uint8)\n",
        "    # y存储标签，每个y大小为1\n",
        "    y = np.zeros((len(image_dir)), dtype=np.uint8)\n",
        "    for i, file in enumerate(image_dir):\n",
        "        img = cv2.imread(os.path.join(path, file))\n",
        "        # 利用cv2.resize()函数将不同大小的图片统一为128(高)*128(宽)\n",
        "        x[i, :, :] = cv2.resize(img,(128, 128))\n",
        "        if label:\n",
        "          y[i] = int(file.split(\"_\")[0]) # y即图片标签 即所属类别(1-11)\n",
        "    if label:\n",
        "      return x, y\n",
        "    else:\n",
        "      return x\n",
        "\n",
        "\n",
        "\n",
        "# 分別將 training set、validation set、testing set 用 readfile 函式讀進來\n",
        "workspace_dir = './food-11'\n",
        "print(\"Reading data\")\n",
        "# os.path.join 目录和文件名合成一个路径\n",
        "train_x, train_y = readfile(os.path.join(workspace_dir, \"training\"), True)\n",
        "print(\"Size of training data = {}\".format(len(train_x)))\n",
        "val_x, val_y = readfile(os.path.join(workspace_dir, \"validation\"), True)\n",
        "print(\"Size of validation data = {}\".format(len(val_x)))\n",
        "test_x = readfile(os.path.join(workspace_dir, \"testing\"), False)\n",
        "print(\"Size of Testing data = {}\".format(len(test_x)))\n",
        "print(train_y)\n",
        "print(val_y)"
      ],
      "execution_count": 14,
      "outputs": [
        {
          "output_type": "stream",
          "text": [
            "Reading data\n",
            "Size of training data = 9866\n",
            "Size of validation data = 3430\n",
            "Size of Testing data = 3347\n",
            "[0 0 0 ... 9 9 9]\n",
            "[0 0 0 ... 9 9 9]\n"
          ],
          "name": "stdout"
        }
      ]
    },
    {
      "cell_type": "code",
      "metadata": {
        "id": "11YtEWQLmvMy"
      },
      "source": [
        "# training 時做 data augmentation(数据增强)\n",
        "# 数据增强主要用来防止过拟合，用于dataset较小的时候。\n",
        "# 参考：https://blog.csdn.net/lanmengyiyu/article/details/79658545\n",
        "train_transform = transforms.Compose([\n",
        "    transforms.ToPILImage(), # 将tensor转化为PILImage\n",
        "    transforms.RandomHorizontalFlip(), # 隨機將圖片水平翻轉\n",
        "    transforms.RandomRotation(15), # 隨機旋轉圖片\n",
        "    transforms.ToTensor(), # 將圖片轉成 Tensor，並把數值 normalize 到 [0,1] (data normalization)\n",
        "])\n",
        "# testing 時不需做 data augmentation\n",
        "test_transform = transforms.Compose([\n",
        "    transforms.ToPILImage(),                                    \n",
        "    transforms.ToTensor(),\n",
        "])\n",
        "\n",
        "# 在 PyTorch 中，我們可以利用 torch.utils.data 的 Dataset 及 DataLoader 來\"包裝\" data，使後續的 training 及 testing 更為方便。\n",
        "\n",
        "# Dataset 需要 overload 兩個函數：__len__ 及 __getitem__\n",
        "\n",
        "# __len__ 必須要回傳 dataset 的大小，而 __getitem__ 則定義了當程式利用 [ ] 取值時，dataset 應該要怎麼回傳資料。\n",
        "\n",
        "# 實際上我們並不會直接使用到這兩個函數，但是使用 DataLoader 在 enumerate Dataset 時會使用到，沒有實做的話會在程式運行階段出現 error。\n",
        "class ImgDataset(Dataset):\n",
        "    def __init__(self, x, y=None, transform=None):\n",
        "        self.x = x\n",
        "        # label is required to be a LongTensor\n",
        "        self.y = y\n",
        "        if y is not None:\n",
        "            self.y = torch.LongTensor(y)\n",
        "        self.transform = transform\n",
        "    def __len__(self):\n",
        "        return len(self.x)\n",
        "    def __getitem__(self, index):\n",
        "        X = self.x[index]\n",
        "        if self.transform is not None:\n",
        "            X = self.transform(X)\n",
        "        if self.y is not None:\n",
        "            Y = self.y[index]\n",
        "            return X, Y\n",
        "        else:\n",
        "            return X\n",
        "\n",
        "\n",
        "batch_size = 128\n",
        "train_set = ImgDataset(train_x, train_y, train_transform)\n",
        "val_set = ImgDataset(val_x, val_y, test_transform)\n",
        "# shuffle （bool, optional） - 每一个epoch进行的时候是否要进行随机打乱（默认为False）\n",
        "train_loader = DataLoader(train_set, batch_size=batch_size, shuffle=True)\n",
        "val_loader = DataLoader(val_set, batch_size=batch_size, shuffle=False)"
      ],
      "execution_count": 17,
      "outputs": []
    },
    {
      "cell_type": "code",
      "metadata": {
        "id": "XglSQln3QeA2"
      },
      "source": [
        "class Classifier(nn.Module):\n",
        "    def __init__(self):\n",
        "        super(Classifier, self).__init__()\n",
        "        # torch.nn.Conv2d(in_channels, out_channels, kernel_size, stride, padding)\n",
        "        # torch.nn.MaxPool2d(kernel_size, stride, padding)\n",
        "        # input 維度 [3, 128, 128]\n",
        "        self.cnn = nn.Sequential(\n",
        "            # 第一个参数代表输入数据的通道数，例RGB图片通道数为3；\n",
        "            # 第二个参数代表输出数据的通道数，这个根据模型调整；\n",
        "            # 第三个参数是卷积核大小\n",
        "            # 第四个参数是stride，步长\n",
        "            # 第五个参数是padding，补1  输入的每一条边补充0的层数\n",
        "            nn.Conv2d(3, 64, 3, 1, 1),  # [64, 128, 128]\n",
        "            nn.BatchNorm2d(64),\n",
        "            nn.ReLU(),\n",
        "\n",
        "            # 第一个参数是kernel_size，max pooling的窗口大小，\n",
        "            # 第二个参数是stride，max pooling的窗口移动的步长。默认值是kernel_size\n",
        "            # 第三个参数输入的每一条边补充0的层数，默认是0\n",
        "            nn.MaxPool2d(2, 2, 0),      # [64, 64, 64]\n",
        "\n",
        "            nn.Conv2d(64, 128, 3, 1, 1), # [128, 64, 64]\n",
        "            nn.BatchNorm2d(128),\n",
        "            nn.ReLU(),\n",
        "            nn.MaxPool2d(2, 2, 0),      # [128, 32, 32]\n",
        "\n",
        "            nn.Conv2d(128, 256, 3, 1, 1), # [256, 32, 32]\n",
        "            nn.BatchNorm2d(256),\n",
        "            nn.ReLU(),\n",
        "            nn.MaxPool2d(2, 2, 0),      # [256, 16, 16]\n",
        "\n",
        "            nn.Conv2d(256, 512, 3, 1, 1), # [512, 16, 16]\n",
        "            nn.BatchNorm2d(512),\n",
        "            nn.ReLU(),\n",
        "            nn.MaxPool2d(2, 2, 0),       # [512, 8, 8]\n",
        "            \n",
        "            nn.Conv2d(512, 512, 3, 1, 1), # [512, 8, 8]\n",
        "            nn.BatchNorm2d(512),\n",
        "            nn.ReLU(),\n",
        "            nn.MaxPool2d(2, 2, 0),       # [512, 4, 4]\n",
        "        )\n",
        "        # 最后输出到全连接层\n",
        "        self.fc = nn.Sequential(\n",
        "            nn.Linear(512*4*4, 1024),\n",
        "            nn.ReLU(),\n",
        "            nn.Linear(1024, 512),\n",
        "            nn.ReLU(),\n",
        "            nn.Linear(512, 11)\n",
        "        )\n",
        "    def forward(self, x):\n",
        "        out = self.cnn(x)\n",
        "        # out.view类似于numpy中reshape的作用 原张量拉直成一维的结构\n",
        "        out = out.view(out.size()[0], -1)\n",
        "        return self.fc(out)"
      ],
      "execution_count": 18,
      "outputs": []
    },
    {
      "cell_type": "code",
      "metadata": {
        "id": "d8mGMiJYX5sK",
        "outputId": "b6555b18-1a05-4405-aaa9-bceb2e565400",
        "colab": {
          "base_uri": "https://localhost:8080/",
          "height": 521
        }
      },
      "source": [
        "model = Classifier().cuda()\n",
        "loss = nn.CrossEntropyLoss() # 因為是 classification task，所以 loss 使用 CrossEntropyLoss\n",
        "optimizer = torch.optim.Adam(model.parameters(), lr=0.001) # optimizer 使用 Adam learning rate=0.01\n",
        "num_epoch = 30\n",
        "\n",
        "for epoch in range(num_epoch):\n",
        "    epoch_start_time = time.time()\n",
        "    train_acc = 0.0\n",
        "    train_loss = 0.0\n",
        "    val_acc = 0.0\n",
        "    val_loss = 0.0\n",
        "\n",
        "    model.train() # 確保 model 是在 train model (開啟 Dropout 等...)\n",
        "    for i, data in enumerate(train_loader):\n",
        "        optimizer.zero_grad() # 用 optimizer 將 model 參數的 gradient 歸零\n",
        "        train_pred = model(data[0].cuda()) # 利用 model 得到預測的機率分佈 這邊實際上就是去呼叫 model 的 forward 函數\n",
        "        # data[0]预测结果 data[1]真实值\n",
        "        batch_loss = loss(train_pred, data[1].cuda()) # 計算 loss （注意 prediction 跟 label 必須同時在 CPU 或是 GPU 上）\n",
        "        batch_loss.backward() # 利用 back propagation 算出每個參數的 gradient\n",
        "        optimizer.step() # 以 optimizer 用 gradient 更新參數值\n",
        "\n",
        "        # np.argmax找到最大数的索引 axis=1求这一行的最大值的索引\n",
        "        train_acc += np.sum(np.argmax(train_pred.cpu().data.numpy(), axis=1) == data[1].cpu().numpy())\n",
        "        train_loss += batch_loss.item()\n",
        "    \n",
        "    # pytorch会自动把Batch Normalization和DropOut固定住，不会取平均，而是用训练好的值。\n",
        "    # 不然的话，一旦test的batch_size过小，很容易就会被BN层导致生成图片颜色失真极大\n",
        "    # 在模型测试阶段使用\n",
        "    model.eval()\n",
        "    # torch.no_grad 达到 暂时 不追踪网络参数中的导数的目的\n",
        "    with torch.no_grad():\n",
        "        for i, data in enumerate(val_loader):\n",
        "            val_pred = model(data[0].cuda())\n",
        "            batch_loss = loss(val_pred, data[1].cuda())\n",
        "\n",
        "            val_acc += np.sum(np.argmax(val_pred.cpu().data.numpy(), axis=1) == data[1].cpu().numpy())\n",
        "            val_loss += batch_loss.item()\n",
        "\n",
        "        #將結果 print 出來\n",
        "        print('[%03d/%03d] %2.2f sec(s) Train Acc: %3.6f Loss: %3.6f | Val Acc: %3.6f loss: %3.6f' % \\\n",
        "            (epoch + 1, num_epoch, time.time()-epoch_start_time, \\\n",
        "             train_acc/train_set.__len__(), train_loss/train_set.__len__(), val_acc/val_set.__len__(), val_loss/val_set.__len__()))"
      ],
      "execution_count": 26,
      "outputs": [
        {
          "output_type": "stream",
          "text": [
            "[001/030] 24.57 sec(s) Train Acc: 0.247821 Loss: 0.017860 | Val Acc: 0.281050 loss: 0.016117\n",
            "[002/030] 24.77 sec(s) Train Acc: 0.337421 Loss: 0.014813 | Val Acc: 0.317784 loss: 0.015932\n",
            "[003/030] 24.36 sec(s) Train Acc: 0.389621 Loss: 0.013763 | Val Acc: 0.327988 loss: 0.015547\n",
            "[004/030] 24.29 sec(s) Train Acc: 0.429151 Loss: 0.012876 | Val Acc: 0.394461 loss: 0.013544\n",
            "[005/030] 24.54 sec(s) Train Acc: 0.470099 Loss: 0.012068 | Val Acc: 0.437901 loss: 0.012570\n",
            "[006/030] 24.55 sec(s) Train Acc: 0.492398 Loss: 0.011405 | Val Acc: 0.395044 loss: 0.015670\n",
            "[007/030] 24.38 sec(s) Train Acc: 0.528583 Loss: 0.010681 | Val Acc: 0.410787 loss: 0.014325\n",
            "[008/030] 24.45 sec(s) Train Acc: 0.544294 Loss: 0.010394 | Val Acc: 0.492420 loss: 0.011966\n",
            "[009/030] 24.56 sec(s) Train Acc: 0.560004 Loss: 0.009986 | Val Acc: 0.487464 loss: 0.012690\n",
            "[010/030] 24.46 sec(s) Train Acc: 0.592337 Loss: 0.009297 | Val Acc: 0.489504 loss: 0.012079\n",
            "[011/030] 24.47 sec(s) Train Acc: 0.595175 Loss: 0.009114 | Val Acc: 0.487172 loss: 0.012619\n",
            "[012/030] 24.47 sec(s) Train Acc: 0.628015 Loss: 0.008516 | Val Acc: 0.504082 loss: 0.012574\n",
            "[013/030] 24.47 sec(s) Train Acc: 0.642814 Loss: 0.008013 | Val Acc: 0.412245 loss: 0.015359\n",
            "[014/030] 24.51 sec(s) Train Acc: 0.640989 Loss: 0.008095 | Val Acc: 0.460350 loss: 0.013851\n",
            "[015/030] 24.45 sec(s) Train Acc: 0.672106 Loss: 0.007348 | Val Acc: 0.563557 loss: 0.010522\n",
            "[016/030] 24.43 sec(s) Train Acc: 0.697547 Loss: 0.006813 | Val Acc: 0.572886 loss: 0.010666\n",
            "[017/030] 24.40 sec(s) Train Acc: 0.704845 Loss: 0.006598 | Val Acc: 0.642274 loss: 0.009002\n",
            "[018/030] 24.44 sec(s) Train Acc: 0.725218 Loss: 0.006162 | Val Acc: 0.599708 loss: 0.010243\n",
            "[019/030] 24.44 sec(s) Train Acc: 0.728461 Loss: 0.006007 | Val Acc: 0.646939 loss: 0.008612\n",
            "[020/030] 24.43 sec(s) Train Acc: 0.736773 Loss: 0.005848 | Val Acc: 0.597668 loss: 0.010770\n",
            "[021/030] 24.42 sec(s) Train Acc: 0.759781 Loss: 0.005455 | Val Acc: 0.537318 loss: 0.013083\n",
            "[022/030] 24.46 sec(s) Train Acc: 0.741841 Loss: 0.005795 | Val Acc: 0.578426 loss: 0.011661\n",
            "[023/030] 24.45 sec(s) Train Acc: 0.776809 Loss: 0.004955 | Val Acc: 0.567930 loss: 0.013202\n",
            "[024/030] 24.47 sec(s) Train Acc: 0.791709 Loss: 0.004653 | Val Acc: 0.633236 loss: 0.009896\n",
            "[025/030] 24.40 sec(s) Train Acc: 0.813602 Loss: 0.004244 | Val Acc: 0.626239 loss: 0.010695\n",
            "[026/030] 24.41 sec(s) Train Acc: 0.771741 Loss: 0.005215 | Val Acc: 0.649271 loss: 0.008998\n",
            "[027/030] 24.54 sec(s) Train Acc: 0.816542 Loss: 0.004228 | Val Acc: 0.522449 loss: 0.016531\n",
            "[028/030] 24.37 sec(s) Train Acc: 0.832151 Loss: 0.003767 | Val Acc: 0.645190 loss: 0.010099\n",
            "[029/030] 24.35 sec(s) Train Acc: 0.837523 Loss: 0.003627 | Val Acc: 0.674927 loss: 0.009351\n",
            "[030/030] 24.42 sec(s) Train Acc: 0.851612 Loss: 0.003420 | Val Acc: 0.614869 loss: 0.011471\n"
          ],
          "name": "stdout"
        }
      ]
    },
    {
      "cell_type": "code",
      "metadata": {
        "id": "S9eOGqlXgLE4"
      },
      "source": [
        "# numpy.concatenate完成数组拼接\n",
        "train_val_x = np.concatenate((train_x, val_x), axis=0)\n",
        "train_val_y = np.concatenate((train_y, val_y), axis=0)\n",
        "train_val_set = ImgDataset(train_val_x, train_val_y, train_transform)\n",
        "train_val_loader = DataLoader(train_val_set, batch_size=batch_size, shuffle=True)"
      ],
      "execution_count": 27,
      "outputs": []
    },
    {
      "cell_type": "code",
      "metadata": {
        "id": "x9GzycjhiITk",
        "outputId": "799e07b0-c628-4acc-f0ea-29861971fcb5",
        "colab": {
          "base_uri": "https://localhost:8080/",
          "height": 521
        }
      },
      "source": [
        "model_best = Classifier().cuda()\n",
        "loss = nn.CrossEntropyLoss() # 因為是 classification task，所以 loss 使用 CrossEntropyLoss\n",
        "optimizer = torch.optim.Adam(model_best.parameters(), lr=0.001) # optimizer 使用 Adam\n",
        "num_epoch = 30\n",
        "\n",
        "for epoch in range(num_epoch):\n",
        "    epoch_start_time = time.time()\n",
        "    train_acc = 0.0\n",
        "    train_loss = 0.0\n",
        "\n",
        "    model_best.train()\n",
        "    for i, data in enumerate(train_val_loader):\n",
        "        optimizer.zero_grad()\n",
        "        train_pred = model_best(data[0].cuda())\n",
        "        batch_loss = loss(train_pred, data[1].cuda())\n",
        "        batch_loss.backward()\n",
        "        optimizer.step()\n",
        "\n",
        "        train_acc += np.sum(np.argmax(train_pred.cpu().data.numpy(), axis=1) == data[1].cpu().numpy())\n",
        "        train_loss += batch_loss.item()\n",
        "\n",
        "        #將結果 print 出來\n",
        "    print('[%03d/%03d] %2.2f sec(s) Train Acc: %3.6f Loss: %3.6f' % \\\n",
        "      (epoch + 1, num_epoch, time.time()-epoch_start_time, \\\n",
        "      train_acc/train_val_set.__len__(), train_loss/train_val_set.__len__()))"
      ],
      "execution_count": 29,
      "outputs": [
        {
          "output_type": "stream",
          "text": [
            "[001/030] 29.55 sec(s) Train Acc: 0.239847 Loss: 0.017460\n",
            "[002/030] 29.16 sec(s) Train Acc: 0.361236 Loss: 0.014116\n",
            "[003/030] 28.94 sec(s) Train Acc: 0.432160 Loss: 0.012749\n",
            "[004/030] 29.35 sec(s) Train Acc: 0.478415 Loss: 0.011710\n",
            "[005/030] 29.22 sec(s) Train Acc: 0.524669 Loss: 0.010695\n",
            "[006/030] 29.11 sec(s) Train Acc: 0.560770 Loss: 0.009905\n",
            "[007/030] 29.21 sec(s) Train Acc: 0.597774 Loss: 0.009102\n",
            "[008/030] 29.25 sec(s) Train Acc: 0.630039 Loss: 0.008383\n",
            "[009/030] 29.20 sec(s) Train Acc: 0.654558 Loss: 0.007792\n",
            "[010/030] 29.24 sec(s) Train Acc: 0.677948 Loss: 0.007343\n",
            "[011/030] 29.18 sec(s) Train Acc: 0.693742 Loss: 0.006927\n",
            "[012/030] 29.15 sec(s) Train Acc: 0.706528 Loss: 0.006584\n",
            "[013/030] 29.21 sec(s) Train Acc: 0.720217 Loss: 0.006296\n",
            "[014/030] 29.15 sec(s) Train Acc: 0.751955 Loss: 0.005658\n",
            "[015/030] 29.16 sec(s) Train Acc: 0.758424 Loss: 0.005423\n",
            "[016/030] 29.19 sec(s) Train Acc: 0.774669 Loss: 0.005116\n",
            "[017/030] 29.15 sec(s) Train Acc: 0.784146 Loss: 0.004865\n",
            "[018/030] 29.14 sec(s) Train Acc: 0.795653 Loss: 0.004583\n",
            "[019/030] 29.20 sec(s) Train Acc: 0.810394 Loss: 0.004247\n",
            "[020/030] 29.15 sec(s) Train Acc: 0.818742 Loss: 0.004064\n",
            "[021/030] 29.13 sec(s) Train Acc: 0.827542 Loss: 0.003824\n",
            "[022/030] 29.20 sec(s) Train Acc: 0.839651 Loss: 0.003539\n",
            "[023/030] 29.19 sec(s) Train Acc: 0.858604 Loss: 0.003186\n",
            "[024/030] 29.14 sec(s) Train Acc: 0.864245 Loss: 0.003022\n",
            "[025/030] 29.12 sec(s) Train Acc: 0.867178 Loss: 0.002924\n",
            "[026/030] 29.13 sec(s) Train Acc: 0.883724 Loss: 0.002635\n",
            "[027/030] 29.13 sec(s) Train Acc: 0.886507 Loss: 0.002479\n",
            "[028/030] 29.15 sec(s) Train Acc: 0.902452 Loss: 0.002151\n",
            "[029/030] 29.17 sec(s) Train Acc: 0.903279 Loss: 0.002098\n",
            "[030/030] 29.17 sec(s) Train Acc: 0.909597 Loss: 0.001959\n"
          ],
          "name": "stdout"
        }
      ]
    },
    {
      "cell_type": "code",
      "metadata": {
        "id": "JTESsdvXiJ8g"
      },
      "source": [
        "test_set = ImgDataset(test_x, transform=test_transform)\n",
        "test_loader = DataLoader(test_set, batch_size=batch_size, shuffle=False)"
      ],
      "execution_count": 30,
      "outputs": []
    },
    {
      "cell_type": "code",
      "metadata": {
        "id": "96VsuZiSiMQh"
      },
      "source": [
        "model_best.eval()\n",
        "prediction = []\n",
        "with torch.no_grad():\n",
        "    for i, data in enumerate(test_loader):\n",
        "        test_pred = model_best(data.cuda())\n",
        "        test_label = np.argmax(test_pred.cpu().data.numpy(), axis=1)\n",
        "        for y in test_label:\n",
        "            prediction.append(y)"
      ],
      "execution_count": 31,
      "outputs": []
    },
    {
      "cell_type": "code",
      "metadata": {
        "id": "QBDa6Y7ziN_4"
      },
      "source": [
        "#將結果寫入 csv 檔\n",
        "with open(\"./drive/My Drive/Hung-yi Lee DLML HW/hw3/predict.csv\", 'w') as f:\n",
        "    f.write('Id,Category\\n')\n",
        "    for i, y in  enumerate(prediction):\n",
        "        f.write('{},{}\\n'.format(i, y))"
      ],
      "execution_count": 32,
      "outputs": []
    },
    {
      "cell_type": "code",
      "metadata": {
        "id": "zYfC5KiNpqKV"
      },
      "source": [
        "import csv\n",
        "csvFile = open(\"./drive/My Drive/Hung-yi Lee DLML HW/hw3/predict.csv\", \"r\")\n",
        "csv_reader = csv.reader(csvFile)\n",
        "data= []\n",
        "for line in csv_reader:\n",
        "    data.append([x for x in line[:len(line)]])     #[x for x in line[:len(line)]]：形成一个行列表，对每行逐个字符串，进行追加；   data.append（）：对添加一个行列表\n",
        "    print(data)"
      ],
      "execution_count": null,
      "outputs": []
    }
  ]
}