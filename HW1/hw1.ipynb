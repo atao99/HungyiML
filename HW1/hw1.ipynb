{
  "nbformat": 4,
  "nbformat_minor": 0,
  "metadata": {
    "colab": {
      "name": "hw1.ipynb",
      "provenance": [],
      "authorship_tag": "ABX9TyMvV7rMhiJ1e6DcoTnnM4BX",
      "include_colab_link": true
    },
    "kernelspec": {
      "name": "python3",
      "display_name": "Python 3"
    },
    "accelerator": "GPU"
  },
  "cells": [
    {
      "cell_type": "markdown",
      "metadata": {
        "id": "view-in-github",
        "colab_type": "text"
      },
      "source": [
        "<a href=\"https://colab.research.google.com/github/brandon0824/HungyiML/blob/master/hw1.ipynb\" target=\"_parent\"><img src=\"https://colab.research.google.com/assets/colab-badge.svg\" alt=\"Open In Colab\"/></a>"
      ]
    },
    {
      "cell_type": "code",
      "metadata": {
        "id": "sX6isa0LULqs",
        "colab_type": "code",
        "colab": {
          "base_uri": "https://localhost:8080/",
          "height": 263
        },
        "outputId": "ef992320-0b65-4e9b-b35c-826b2aa7aa41"
      },
      "source": [
        "import pandas as pd\n",
        "import tensorflow as tf\n",
        "import numpy as np\n",
        "\n",
        "# 数据预处理\n",
        "data = pd.read_csv('./drive/My Drive/Hung-yi Lee DLML HW/hw1/train.csv', encoding='big5')\n",
        "data = data.iloc[:, 3:]\n",
        "data[data == 'NR'] = 0\n",
        "raw_data = data.to_numpy()\n"
      ],
      "execution_count": 15,
      "outputs": [
        {
          "output_type": "stream",
          "text": [
            "         0     1     2     3     4     5  ...    18    19    20    21    22    23\n",
            "0       14    14    14    13    12    12  ...    17    16    15    15    15    15\n",
            "1      1.8   1.8   1.8   1.8   1.8   1.8  ...   1.8   1.8   1.8   1.8   1.8   1.8\n",
            "2     0.51  0.41  0.39  0.37  0.35   0.3  ...  0.56  0.45  0.38  0.35  0.36  0.32\n",
            "3      0.2  0.15  0.13  0.12  0.11  0.06  ...  0.18  0.12   0.1  0.09   0.1  0.08\n",
            "4      0.9   0.6   0.5   1.7   1.8   1.5  ...   2.1   1.9   1.5   1.6   1.8   1.5\n",
            "...    ...   ...   ...   ...   ...   ...  ...   ...   ...   ...   ...   ...   ...\n",
            "4315   1.8   1.8   1.8   1.8   1.8   1.7  ...     2   1.9   1.9   1.9     2     2\n",
            "4316    46    13    61    44    55    68  ...   100   109   108   114   108   109\n",
            "4317    36    55    72   327    74    52  ...   121    97   107   118   100   105\n",
            "4318   1.9   2.4   1.9   2.8   2.3   1.9  ...   1.5     1   1.7   1.5     2     2\n",
            "4319   0.7   0.8   1.8     1   1.9   1.7  ...   1.1   1.4   1.3   1.6   1.8     2\n",
            "\n",
            "[4320 rows x 24 columns]\n"
          ],
          "name": "stdout"
        }
      ]
    }
  ]
}