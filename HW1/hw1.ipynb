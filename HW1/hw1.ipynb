{
  "nbformat": 4,
  "nbformat_minor": 0,
  "metadata": {
    "colab": {
      "name": "hw1.ipynb",
      "provenance": [],
      "collapsed_sections": [],
      "authorship_tag": "ABX9TyP8QRjpq4puQk8qDJNnH2l4",
      "include_colab_link": true
    },
    "kernelspec": {
      "name": "python3",
      "display_name": "Python 3"
    },
    "accelerator": "GPU"
  },
  "cells": [
    {
      "cell_type": "markdown",
      "metadata": {
        "id": "view-in-github",
        "colab_type": "text"
      },
      "source": [
        "<a href=\"https://colab.research.google.com/github/brandon0824/HungyiML/blob/master/HW1/hw1.ipynb\" target=\"_parent\"><img src=\"https://colab.research.google.com/assets/colab-badge.svg\" alt=\"Open In Colab\"/></a>"
      ]
    },
    {
      "cell_type": "code",
      "metadata": {
        "id": "sX6isa0LULqs",
        "colab_type": "code",
        "colab": {
          "base_uri": "https://localhost:8080/",
          "height": 263
        },
        "outputId": "52e7aa09-1a39-4c00-f5e8-9e5789043cc2"
      },
      "source": [
        "import pandas as pd\n",
        "import tensorflow as tf\n",
        "import numpy as np\n",
        "\n",
        "# 数据预处理\n",
        "data = pd.read_csv('./drive/My Drive/Hung-yi Lee DLML HW/hw1/train.csv', encoding='big5')\n",
        "data = data.iloc[:, 3:]\n",
        "data[data == 'NR'] = 0\n",
        "raw_data = data.to_numpy()\n",
        "#print(data)\n",
        "#print(raw_data)\n",
        "\n",
        "month_data = {}\n",
        "for month in range(12):  # month 从0-11 共12个月\n",
        "    sample = np.empty([18, 480])  # 返回一个18行480列的数组，用来保存一个月的数据（一个月只有20天，一天24个小时）\n",
        "    for day in range(20):  # day从0-19 共20天\n",
        "        sample[:, day * 24: (day + 1) * 24] = raw_data[18 * (20 * month + day): 18 * (20 * month + day + 1),\n",
        "                                              :]  # raw的行每次取18行，列取全部列。送到sample中（sample是18行480列）行给全部行，列只给24列，然后列往后增加\n",
        "    month_data[month] = sample # 按照月份进行分割\n",
        "#print(month_data)\n",
        "\n",
        "\n",
        "\n",
        "x = np.empty([12*471,18*9],dtype = float)\n",
        "y = np.empty([12*471,1],dtype = float)\n",
        "for month in range(12):\n",
        "    for day in range(20):\n",
        "        for hour in range(24):\n",
        "            #一个月的最后一天的数据不能与下个月相连\n",
        "            if day == 19 and hour>14:\n",
        "                continue\n",
        "            x[month * 471 + day * 24 + hour, :] = month_data[month][:,day * 24 + hour : day * 24 + hour + 9].reshape(1,-1)\n",
        "            y[month * 471 + day * 24 + hour, 0] = month_data[month][9,day * 24 + hour + 9]\n",
        "print(x)\n",
        "print(y)"
      ],
      "execution_count": 14,
      "outputs": [
        {
          "output_type": "stream",
          "text": [
            "[[14.  14.  14.  ...  2.   2.   0.5]\n",
            " [14.  14.  13.  ...  2.   0.5  0.3]\n",
            " [14.  13.  12.  ...  0.5  0.3  0.8]\n",
            " ...\n",
            " [17.  18.  19.  ...  1.1  1.4  1.3]\n",
            " [18.  19.  18.  ...  1.4  1.3  1.6]\n",
            " [19.  18.  17.  ...  1.3  1.6  1.8]]\n",
            "[[30.]\n",
            " [41.]\n",
            " [44.]\n",
            " ...\n",
            " [17.]\n",
            " [24.]\n",
            " [29.]]\n"
          ],
          "name": "stdout"
        }
      ]
    }
  ]
}