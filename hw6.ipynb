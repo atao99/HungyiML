{
  "nbformat": 4,
  "nbformat_minor": 0,
  "metadata": {
    "colab": {
      "name": "hw6.ipynb",
      "provenance": [],
      "collapsed_sections": [],
      "authorship_tag": "ABX9TyMAZFS3ZKImt1nBcVGKA83H",
      "include_colab_link": true
    },
    "kernelspec": {
      "name": "python3",
      "display_name": "Python 3"
    },
    "accelerator": "GPU"
  },
  "cells": [
    {
      "cell_type": "markdown",
      "metadata": {
        "id": "view-in-github",
        "colab_type": "text"
      },
      "source": [
        "<a href=\"https://colab.research.google.com/github/brandon0824/HungyiML/blob/master/hw6.ipynb\" target=\"_parent\"><img src=\"https://colab.research.google.com/assets/colab-badge.svg\" alt=\"Open In Colab\"/></a>"
      ]
    },
    {
      "cell_type": "code",
      "metadata": {
        "colab": {
          "base_uri": "https://localhost:8080/"
        },
        "id": "6J2PZGHcPSFa",
        "outputId": "aaf0129b-e577-4288-b79e-a650748a0b1a"
      },
      "source": [
        "from google.colab import drive\n",
        "drive.mount('/content/drive/')"
      ],
      "execution_count": 4,
      "outputs": [
        {
          "output_type": "stream",
          "text": [
            "Drive already mounted at /content/drive/; to attempt to forcibly remount, call drive.mount(\"/content/drive/\", force_remount=True).\n"
          ],
          "name": "stdout"
        }
      ]
    },
    {
      "cell_type": "code",
      "metadata": {
        "id": "uBRNlZHqPaQk"
      },
      "source": [
        "!nvidia-smi"
      ],
      "execution_count": null,
      "outputs": []
    },
    {
      "cell_type": "code",
      "metadata": {
        "colab": {
          "base_uri": "https://localhost:8080/"
        },
        "id": "dfnLnyQmP4uW",
        "outputId": "6647a3ac-969d-486d-8097-771abd1fe3e5"
      },
      "source": [
        "# 下載資料\n",
        "!gdown --id '14CqX3OfY9aUbhGp4OpdSHLvq2321fUB7' --output data.zip\n",
        "# 解壓縮\n",
        "!unzip -qq -u data.zip\n",
        "# 確認目前的檔案\n",
        "!ls"
      ],
      "execution_count": 3,
      "outputs": [
        {
          "output_type": "stream",
          "text": [
            "Downloading...\n",
            "From: https://drive.google.com/uc?id=14CqX3OfY9aUbhGp4OpdSHLvq2321fUB7\n",
            "To: /content/data.zip\n",
            "17.9MB [00:00, 109MB/s] \n",
            "data  data.zip\tdrive  sample_data\n"
          ],
          "name": "stdout"
        }
      ]
    },
    {
      "cell_type": "code",
      "metadata": {
        "id": "1i1zR662QElm"
      },
      "source": [
        "import os\n",
        "# 讀取 label.csv\n",
        "import pandas as pd\n",
        "# 讀取圖片\n",
        "from PIL import Image\n",
        "import numpy as np\n",
        "\n",
        "import torch\n",
        "# Loss function\n",
        "import torch.nn.functional as F\n",
        "# 讀取資料\n",
        "import torchvision.datasets as datasets\n",
        "from torch.utils.data import Dataset, DataLoader\n",
        "# 載入預訓練的模型\n",
        "import torchvision.models as models\n",
        "# 將資料轉換成符合預訓練模型的形式\n",
        "import torchvision.transforms as transforms\n",
        "# 顯示圖片\n",
        "import matplotlib.pyplot as plt\n",
        "\n",
        "device = torch.device(\"cuda\")"
      ],
      "execution_count": 5,
      "outputs": []
    },
    {
      "cell_type": "code",
      "metadata": {
        "id": "IrhpPyXqR7te"
      },
      "source": [
        "# 實作一個繼承 torch.utils.data.Dataset 的 Class 來讀取圖片\n",
        "class Adverdataset(Dataset):\n",
        "    def __init__(self, root, label, transforms):\n",
        "        # 圖片所在的資料夾\n",
        "        self.root = root\n",
        "        # 由 main function 傳入的 label\n",
        "        self.label = torch.from_numpy(label).long()\n",
        "        # 由 Attacker 傳入的 transforms 將輸入的圖片轉換成符合預訓練模型的形式\n",
        "        self.transforms = transforms\n",
        "        # 圖片檔案名稱的 list\n",
        "        self.fnames = []\n",
        "\n",
        "        for i in range(200):\n",
        "            self.fnames.append(\"{:03d}\".format(i))\n",
        "\n",
        "    def __getitem__(self, idx):\n",
        "        # 利用路徑讀取圖片\n",
        "        img = Image.open(os.path.join(self.root, self.fnames[idx] + '.png'))\n",
        "        # 將輸入的圖片轉換成符合預訓練模型的形式\n",
        "        img = self.transforms(img)\n",
        "        # 圖片相對應的 label\n",
        "        label = self.label[idx]\n",
        "        return img, label\n",
        "    \n",
        "    def __len__(self):\n",
        "        # 由於已知這次的資料總共有 200 張圖片 所以回傳 200\n",
        "        return 200"
      ],
      "execution_count": null,
      "outputs": []
    }
  ]
}